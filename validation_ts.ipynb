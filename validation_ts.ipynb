{
 "cells": [
  {
   "cell_type": "code",
   "execution_count": 1,
   "metadata": {},
   "outputs": [
    {
     "name": "stdout",
     "output_type": "stream",
     "text": [
      "invalid value encountered in cast (/opt/miniconda3/envs/pyfvcom/lib/python3.12/site-packages/utide/harmonics.py:16)\n",
      "invalid value encountered in cast (/opt/miniconda3/envs/pyfvcom/lib/python3.12/site-packages/utide/harmonics.py:17)\n"
     ]
    }
   ],
   "source": [
    "from PyFVCOM.read import FileReader\n",
    "from PyFVCOM.plot import Depth, Plotter\n",
    "import numpy as np\n",
    "import matplotlib.pyplot as plt\n",
    "from cmocean import cm\n",
    "from PyFVCOM.grid import _grid as grd\n",
    "from PyFVCOM.grid import line_sample, find_nearest_point, vincenty_distance, haversine_distance\n",
    "from PyFVCOM.coordinate import lonlat_decimal_from_degminsec"
   ]
  },
  {
   "cell_type": "code",
   "execution_count": 2,
   "metadata": {},
   "outputs": [],
   "source": [
    "fvcom = FileReader('1year_fixed_8c_gs_2005_0001-3.nc', \n",
    "                   variables=['time','temp', 'ww'], zone='12N')"
   ]
  },
  {
   "cell_type": "code",
   "execution_count": null,
   "metadata": {},
   "outputs": [],
   "source": [
    "\"\"\" LANCE ESTACION LATITUD(°N) LONGITUD(W) HORA(GMT) FECHA(d/m/a) ProfundidadFondo(m)\n",
    "\n",
    "    36\tE08\t28° 32.90'\t112° 50.90'\t18:35\t14/08/2005\t748\n",
    "    37\tE09\t28° 34.20'\t112° 54.10'\t19:38\t14/08/2005\t612\n",
    "    38\tE10\t28° 35.10'\t112° 57.20'\t22:11\t14/08/2005\t566\n",
    "    39\tE11\t28° 36.00'\t113° 0.60'\t23:25\t14/08/2005\t332\n",
    "    40\tE12\t28° 37.20'\t113° 6.00'\t01:28\t15/08/2005\t78 \"\"\"\n",
    "\n",
    "lon_degminsec_e08 = np.array([-112, 50.90, 0], ndmin = 2)\n",
    "lat_degminsec_e08 = np.array([28, 32.90, 00], ndmin = 2)\n",
    "\n",
    "lon_e08, lat_e08 = lonlat_decimal_from_degminsec(lon_degminsec_e08, lat_degminsec_e08)"
   ]
  }
 ],
 "metadata": {
  "kernelspec": {
   "display_name": "pyfvcom",
   "language": "python",
   "name": "python3"
  },
  "language_info": {
   "codemirror_mode": {
    "name": "ipython",
    "version": 3
   },
   "file_extension": ".py",
   "mimetype": "text/x-python",
   "name": "python",
   "nbconvert_exporter": "python",
   "pygments_lexer": "ipython3",
   "version": "3.12.2"
  }
 },
 "nbformat": 4,
 "nbformat_minor": 2
}
